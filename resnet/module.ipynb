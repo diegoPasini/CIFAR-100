{
 "cells": [
  {
   "cell_type": "code",
   "execution_count": 7,
   "metadata": {},
   "outputs": [],
   "source": [
    "import torch\n",
    "from torch import nn\n",
    "\n",
    "\n",
    "## The Hyperparams, as given in https://arxiv.org/pdf/1512.03385 for CIFAR-10\n",
    "class Residual_Block(nn.Module):\n",
    "    def __init__(self, in_channels, out_channels):\n",
    "        super().__init__()\n",
    "\n",
    "        self.residual_core = nn.Sequential(\n",
    "            # Dimensionality Reduction - Conv 1x1\n",
    "            nn.Conv2d(in_channels, out_channels // 2, 1),\n",
    "            nn.BatchNorm2d(out_channels // 2),\n",
    "\n",
    "            nn.LeakyReLU(),\n",
    "            \n",
    "            # Feature Extraction\n",
    "            nn.Conv2d(out_channels // 2, out_channels // 2, 3),\n",
    "            nn.BatchNorm2d(out_channels // 2),\n",
    "            \n",
    "            nn.LeakyReLU(),\n",
    "            \n",
    "            # Dimensionality Expansion\n",
    "            nn.Conv2d(out_channels // 2, out_channels, 1),\n",
    "            nn.BatchNorm2d(out_channels // 2),\n",
    "        )\n",
    "    \n",
    "    def forward(self, x):\n",
    "        residual = x\n",
    "        x = self.residual_core(x)\n",
    "        x = nn.LeakyReLU()(x + residual)\n",
    "        return x\n",
    "\n",
    "class ResNet(nn.Module):\n",
    "    def __init__(self, n):\n",
    "        super().__init__()\n",
    "        self.conv_1 = Residual_Block(3, 16)\n",
    "        self.list_1 = nn.ModuleList([Residual_Block(16, 16) for i in range(2 * n)])\n",
    "        self.max_pool1 = nn.MaxPool2d(2, stride = 2)\n",
    "        self.conv_2 = Residual_Block(16, 32)\n",
    "        self.list_2 = nn.ModuleList([Residual_Block(32, 32) for i in range(2 * n - 1)])\n",
    "        self.max_pool2 = nn.MaxPool2d(2, stride = 2)\n",
    "        self.conv_3 = Residual_Block(32, 64)\n",
    "        self.list_3 = nn.ModuleList([Residual_Block(64, 64) for i in range(2 * n)])\n",
    "        self.avg_pool = nn.AvgPool2d(1)\n",
    "        self.finLinLay = nn.Linear(64, 200)\n",
    "        self.softmax = nn.Softmax(dim = -1)\n",
    "    \n",
    "    def forward(self, x):\n",
    "        x = self.conv_1(x)\n",
    "        x = self.list_1(x)\n",
    "        x = self.max_pool1(x)\n",
    "        x = self.conv_2(x)\n",
    "        x = self.list_2(x)\n",
    "        x = self.max_pool2(x)\n",
    "        x = self.conv_3(x)\n",
    "        x = self.list_3(x)\n",
    "        x = self.avg_pool(x)\n",
    "        x = self.finLinLay(x)\n",
    "        x = self.softmax(x)\n",
    "        return x\n",
    "\n",
    "\n"
   ]
  },
  {
   "cell_type": "code",
   "execution_count": 9,
   "metadata": {},
   "outputs": [
    {
     "data": {
      "text/plain": [
       "1829360"
      ]
     },
     "execution_count": 9,
     "metadata": {},
     "output_type": "execute_result"
    }
   ],
   "source": [
    "model = ResNet(50)\n",
    "total_params = sum(p.numel() for p in model.parameters())\n",
    "total_params"
   ]
  },
  {
   "cell_type": "code",
   "execution_count": null,
   "metadata": {},
   "outputs": [],
   "source": [
    "optimizer = torch.optim.Adam(model.parameters())"
   ]
  }
 ],
 "metadata": {
  "kernelspec": {
   "display_name": "char-rnn",
   "language": "python",
   "name": "python3"
  },
  "language_info": {
   "codemirror_mode": {
    "name": "ipython",
    "version": 3
   },
   "file_extension": ".py",
   "mimetype": "text/x-python",
   "name": "python",
   "nbconvert_exporter": "python",
   "pygments_lexer": "ipython3",
   "version": "3.12.3"
  }
 },
 "nbformat": 4,
 "nbformat_minor": 2
}
