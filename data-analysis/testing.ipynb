{
 "cells": [
  {
   "cell_type": "code",
   "execution_count": 69,
   "metadata": {},
   "outputs": [],
   "source": [
    "import numpy as np\n",
    "import torch\n",
    "from torch import nn\n",
    "import matplotlib.pyplot as plt\n",
    "import random\n",
    "\n",
    "def unpickle(file):\n",
    "    import pickle\n",
    "    with open(file, 'rb') as fo:\n",
    "        dict = pickle.load(fo, encoding='bytes')\n",
    "    return dict"
   ]
  },
  {
   "cell_type": "code",
   "execution_count": 70,
   "metadata": {},
   "outputs": [],
   "source": [
    "meta_data = unpickle('/Users/diego/Scripts/cifar-100-challenge/cifar-100-python/meta')\n",
    "test_data = unpickle('/Users/diego/Scripts/cifar-100-challenge/cifar-100-python/test')\n",
    "train_data = unpickle('/Users/diego/Scripts/cifar-100-challenge/cifar-100-python/train')\n"
   ]
  },
  {
   "cell_type": "code",
   "execution_count": 71,
   "metadata": {},
   "outputs": [
    {
     "name": "stdout",
     "output_type": "stream",
     "text": [
      "Number of Labels:  100\n",
      "Number of Corase Labels:  20\n"
     ]
    }
   ],
   "source": [
    "fine_label_names = meta_data[b'fine_label_names']\n",
    "print(\"Number of Labels: \", len(fine_label_names))\n",
    "coarse_label_names = meta_data[b'coarse_label_names']\n",
    "print(\"Number of Corase Labels: \", len(coarse_label_names))"
   ]
  },
  {
   "cell_type": "code",
   "execution_count": 72,
   "metadata": {},
   "outputs": [
    {
     "name": "stdout",
     "output_type": "stream",
     "text": [
      "Test Raw Image Data Shape:  (10000, 3072)\n",
      "Test Labels Shape:  10000\n"
     ]
    }
   ],
   "source": [
    "raw_test_data = test_data[b'data']\n",
    "test_labels = test_data[b'fine_labels']\n",
    "print(\"Test Raw Image Data Shape: \", raw_test_data.shape)\n",
    "print(\"Test Labels Shape: \", len(test_labels))"
   ]
  },
  {
   "cell_type": "code",
   "execution_count": 73,
   "metadata": {},
   "outputs": [
    {
     "name": "stdout",
     "output_type": "stream",
     "text": [
      "Raw Training Data Shape:  (50000, 3072)\n",
      "Train Labels Shape 50000\n"
     ]
    }
   ],
   "source": [
    "raw_train_data = train_data[b'data']\n",
    "train_labels = train_data[b'fine_labels']\n",
    "print(\"Raw Training Data Shape: \", raw_train_data.shape)\n",
    "print(\"Train Labels Shape\", len(train_labels))"
   ]
  },
  {
   "cell_type": "code",
   "execution_count": 74,
   "metadata": {},
   "outputs": [],
   "source": [
    "label_from_index = lambda index : fine_label_names[index]\n",
    "index_from_label = lambda label : fine_label_names.index(label)"
   ]
  },
  {
   "cell_type": "code",
   "execution_count": 75,
   "metadata": {},
   "outputs": [],
   "source": [
    "raw_test_data = raw_test_data.reshape(raw_test_data.shape[0], 3, 32, 32)\n",
    "raw_test_data = raw_test_data.transpose(0, 2, 3, 1).astype('uint8')\n",
    "raw_train_data = raw_train_data.reshape(raw_train_data.shape[0], 3, 32, 32)\n",
    "raw_train_data = raw_train_data.transpose(0, 2, 3, 1).astype('uint8')"
   ]
  },
  {
   "cell_type": "code",
   "execution_count": 76,
   "metadata": {},
   "outputs": [],
   "source": [
    "raw_test_data = torch.from_numpy(raw_test_data)\n",
    "raw_train_data = torch.from_numpy(raw_train_data)"
   ]
  },
  {
   "cell_type": "code",
   "execution_count": 217,
   "metadata": {},
   "outputs": [
    {
     "name": "stdout",
     "output_type": "stream",
     "text": [
      "torch.Size([32, 32, 3])\n",
      "Label :  b'boy'\n"
     ]
    },
    {
     "data": {
      "image/png": "[encoded data removed]",
      "text/plain": [
       "<Figure size 640x480 with 1 Axes>"
      ]
     },
     "metadata": {},
     "output_type": "display_data"
    }
   ],
   "source": [
    "index = random.randint(0, raw_test_data.shape[0])\n",
    "print(raw_test_data[index].shape)\n",
    "print(\"Label : \", label_from_index(test_labels[index]))\n",
    "imgplot = plt.imshow(raw_test_data[index])"
   ]
  }
 ],
 "metadata": {
  "kernelspec": {
   "display_name": "Python 3",
   "language": "python",
   "name": "python3"
  },
  "language_info": {
   "codemirror_mode": {
    "name": "ipython",
    "version": 3
   },
   "file_extension": ".py",
   "mimetype": "text/x-python",
   "name": "python",
   "nbconvert_exporter": "python",
   "pygments_lexer": "ipython3",
   "version": "3.12.3"
  }
 },
 "nbformat": 4,
 "nbformat_minor": 2
}
